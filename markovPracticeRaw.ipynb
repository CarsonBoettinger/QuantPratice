{
 "cells": [
  {
   "cell_type": "code",
   "execution_count": 1,
   "metadata": {},
   "outputs": [],
   "source": [
    "import numpy as np"
   ]
  },
  {
   "cell_type": "code",
   "execution_count": 2,
   "metadata": {},
   "outputs": [
    {
     "data": {
      "text/plain": [
       "{0: 'Burger', 1: 'Pizza', 2: 'Hotdog'}"
      ]
     },
     "execution_count": 2,
     "metadata": {},
     "output_type": "execute_result"
    }
   ],
   "source": [
    "state = {\n",
    "    0: \"Burger\",\n",
    "    1: \"Pizza\",\n",
    "    2: \"Hotdog\"\n",
    "}\n",
    "state"
   ]
  },
  {
   "cell_type": "markdown",
   "metadata": {},
   "source": [
    "Transiton matrix"
   ]
  },
  {
   "cell_type": "code",
   "execution_count": 4,
   "metadata": {},
   "outputs": [
    {
     "data": {
      "text/plain": [
       "array([[0.2, 0.6, 0.2],\n",
       "       [0.3, 0. , 0.7],\n",
       "       [0.5, 0. , 0.5]])"
      ]
     },
     "execution_count": 4,
     "metadata": {},
     "output_type": "execute_result"
    }
   ],
   "source": [
    "A = np.array([[0.2, 0.6, 0.2],[0.3,0.0,0.7],[0.5,0.0,0.5]])\n",
    "A"
   ]
  },
  {
   "cell_type": "markdown",
   "metadata": {},
   "source": [
    "Random Walk Now"
   ]
  },
  {
   "cell_type": "code",
   "execution_count": 5,
   "metadata": {},
   "outputs": [
    {
     "name": "stdout",
     "output_type": "stream",
     "text": [
      "Burger --->Pizza --->Burger --->Pizza --->Hotdog --->Burger --->Pizza --->Hotdog --->Hotdog --->Hotdog --->Hotdog --->Burger --->Pizza --->Burger --->Pizza --->END\n"
     ]
    }
   ],
   "source": [
    "n = 15\n",
    "start_state = 0\n",
    "print(state[start_state], \"--->\", end=\"\")\n",
    "prev_state = start_state\n",
    "\n",
    "while n-1:\n",
    "    curr_state = np.random.choice([0,1,2], p=A[prev_state])\n",
    "    print(state[curr_state], \"--->\", end=\"\")\n",
    "    prev_state = curr_state\n",
    "    n -= 1\n",
    "print(\"END\")"
   ]
  },
  {
   "cell_type": "markdown",
   "metadata": {},
   "source": [
    "Now applying this to a monte carlo method"
   ]
  },
  {
   "cell_type": "code",
   "execution_count": 7,
   "metadata": {},
   "outputs": [
    {
     "name": "stdout",
     "output_type": "stream",
     "text": [
      "pi =  [0.351445 0.210945 0.437611]\n"
     ]
    }
   ],
   "source": [
    "steps = 10**6\n",
    "start_state = 0\n",
    "pi = np.array([0,0,0])\n",
    "pi[start_state] = 1\n",
    "prev_state = start_state\n",
    "i=0\n",
    "while i<steps:\n",
    "    curr_state = np.random.choice([0,1,2], p=A[prev_state])\n",
    "    pi[curr_state] += 1\n",
    "    prev_state = curr_state\n",
    "    i +=1\n",
    "print(\"pi = \", pi/steps)"
   ]
  },
  {
   "cell_type": "markdown",
   "metadata": {},
   "source": [
    "Repeated Matrix Multiplication"
   ]
  },
  {
   "cell_type": "code",
   "execution_count": 10,
   "metadata": {},
   "outputs": [
    {
     "name": "stdout",
     "output_type": "stream",
     "text": [
      "A_n =  [[0.35211268 0.21126761 0.43661972]\n",
      " [0.35211268 0.21126761 0.43661972]\n",
      " [0.35211268 0.21126761 0.43661972]]\n",
      "pi =  [0.35211268 0.21126761 0.43661972]\n"
     ]
    }
   ],
   "source": [
    "steps = 10**3\n",
    "A_n =A\n",
    "i = 0\n",
    "while i<steps:\n",
    "    A_n = np.matmul(A_n,A)\n",
    "    i += 1\n",
    "print(\"A_n = \", A_n)\n",
    "print(\"pi = \", A_n[0])"
   ]
  },
  {
   "cell_type": "markdown",
   "metadata": {},
   "source": [
    "Finding left eigen vectors"
   ]
  },
  {
   "cell_type": "code",
   "execution_count": 14,
   "metadata": {},
   "outputs": [
    {
     "name": "stdout",
     "output_type": "stream",
     "text": [
      "Eigenvector = \n",
      " [[-0.58746336+0.j         -0.16984156-0.35355339j -0.16984156+0.35355339j]\n",
      " [-0.35247801+0.j          0.67936622+0.j          0.67936622-0.j        ]\n",
      " [-0.72845456+0.j         -0.50952467+0.35355339j -0.50952467-0.35355339j]]\n",
      "Eigenvalues =  [ 1.  +0.j        -0.15+0.3122499j -0.15-0.3122499j]\n"
     ]
    }
   ],
   "source": [
    "import scipy.linalg\n",
    "values, left = scipy.linalg.eig(A, left=True, right=False)\n",
    "\n",
    "print(\"Eigenvector = \\n\", left)\n",
    "print(\"Eigenvalues = \", values)\n",
    "\n"
   ]
  },
  {
   "cell_type": "code",
   "execution_count": 15,
   "metadata": {},
   "outputs": [
    {
     "data": {
      "text/plain": [
       "[0.3521126760563379, 0.21126760563380292, 0.43661971830985913]"
      ]
     },
     "execution_count": 15,
     "metadata": {},
     "output_type": "execute_result"
    }
   ],
   "source": [
    "#Normalizing the eigenvector\n",
    "pi = left[:,0]\n",
    "pi_normalized = [(x/np.sum(pi)).real for x in pi]\n",
    "pi_normalized"
   ]
  },
  {
   "cell_type": "code",
   "execution_count": null,
   "metadata": {},
   "outputs": [],
   "source": []
  }
 ],
 "metadata": {
  "kernelspec": {
   "display_name": "work",
   "language": "python",
   "name": "python3"
  },
  "language_info": {
   "codemirror_mode": {
    "name": "ipython",
    "version": 3
   },
   "file_extension": ".py",
   "mimetype": "text/x-python",
   "name": "python",
   "nbconvert_exporter": "python",
   "pygments_lexer": "ipython3",
   "version": "3.9.19"
  }
 },
 "nbformat": 4,
 "nbformat_minor": 2
}
